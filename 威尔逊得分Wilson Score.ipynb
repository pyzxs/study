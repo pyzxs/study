{
 "cells": [
  {
   "cell_type": "code",
   "execution_count": 1,
   "metadata": {},
   "outputs": [
    {
     "name": "stdout",
     "output_type": "stream",
     "text": [
      "total: 999, mean: 0.48742105244201206, var: 0.0878669848640502\n",
      "score: 0.46868304798454374\n",
      "score: 0.8238023526890697\n",
      "score: 0.6069423226270905\n",
      "score: 0.8284756310556012\n"
     ]
    }
   ],
   "source": [
    "import numpy as np\n",
    "import random\n",
    "\n",
    "\n",
    "def wilson_score(pos, total, p_z=2.):\n",
    "    \"\"\"\n",
    "    威尔逊得分计算函数\n",
    "    参考：https://en.wikipedia.org/wiki/Binomial_proportion_confidence_interval\n",
    "    :param pos: 正例数\n",
    "    :param total: 总数\n",
    "    :param p_z: 正太分布的分位数\n",
    "    :return: 威尔逊得分\n",
    "    \"\"\"\n",
    "    pos_rat = pos * 1. / total * 1.  # 正例比率\n",
    "    score = (pos_rat + (np.square(p_z) / (2. * total))\n",
    "             - ((p_z / (2. * total)) * np.sqrt(4. * total * (1. - pos_rat) * pos_rat + np.square(p_z)))) / \\\n",
    "            (1. + np.square(p_z) / total)\n",
    "    return score\n",
    "\n",
    "def wilson_score_norm(mean, var, total, p_z=2.):\n",
    "    \"\"\"\n",
    "    威尔逊得分计算函数 正态分布版 支持如5星评价，或百分制评价\n",
    "    :param mean: 均值\n",
    "    :param var: 方差\n",
    "    :param total: 总数\n",
    "    :param p_z: 正太分布的分位数\n",
    "    :return: \n",
    "    \"\"\"\n",
    "    # 归一化，符合正太分布的分位数\n",
    "    score = (mean + (np.square(p_z) / (2. * total))\n",
    "             - ((p_z / (2. * total)) * np.sqrt(4. * total * var + np.square(p_z)))) / \\\n",
    "            (1 + np.square(p_z) / total)\n",
    "    return score\n",
    "\n",
    "def test_of_values(data,max=5.,min=1.):\n",
    "    \"\"\"\n",
    "    五星评价的归一化实例，百分制类似\n",
    "    :return: 总数，均值，方差\n",
    "    \"\"\"\n",
    "    values = np.asarray(data, dtype =  float)  \n",
    "\n",
    "    norm_values = (values - min) / (max - min)  # 归一化\n",
    "    total = norm_values.size  # 总数\n",
    "    mean = np.mean(norm_values)  # 归一化后的均值\n",
    "    var = np.var(norm_values)  # 归一化后的方差\n",
    "    return total, mean, var\n",
    "\n",
    "data = []\n",
    "for i in range(1,1000):\n",
    "    data.append(random.random() * 100)\n",
    "\n",
    "\n",
    "total, mean, var = test_of_values(data,100.,1.)\n",
    "print(\"total: %s, mean: %s, var: %s\" % (total, mean, var))\n",
    "\n",
    "print('score: %s' % wilson_score_norm(mean=mean, var=var, total=total))\n",
    "print('score: %s' % wilson_score(90, 90 + 10, p_z=2.))\n",
    "print ('score: %s' % wilson_score(90, 90 + 10, p_z=6.))\n",
    "print ('score: %s' % wilson_score(900, 900 + 100, p_z=6.))"
   ]
  },
  {
   "cell_type": "code",
   "execution_count": null,
   "metadata": {},
   "outputs": [],
   "source": []
  },
  {
   "cell_type": "code",
   "execution_count": null,
   "metadata": {},
   "outputs": [],
   "source": []
  },
  {
   "cell_type": "code",
   "execution_count": null,
   "metadata": {},
   "outputs": [],
   "source": []
  }
 ],
 "metadata": {
  "kernelspec": {
   "display_name": "Python 3 (ipykernel)",
   "language": "python",
   "name": "python3"
  },
  "language_info": {
   "codemirror_mode": {
    "name": "ipython",
    "version": 3
   },
   "file_extension": ".py",
   "mimetype": "text/x-python",
   "name": "python",
   "nbconvert_exporter": "python",
   "pygments_lexer": "ipython3",
   "version": "3.9.13"
  }
 },
 "nbformat": 4,
 "nbformat_minor": 4
}
