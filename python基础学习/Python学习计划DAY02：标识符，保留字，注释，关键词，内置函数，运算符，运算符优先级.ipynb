{
 "cells": [
  {
   "cell_type": "markdown",
   "id": "4c75cea9",
   "metadata": {},
   "source": [
    "### 标识符\n",
    "标识符就是对 变量 、 常量 、 函数 、 类 等对象起的名字。首先必须说明的是，Python语言在任何场景都严格区分大小写！\n",
    "\n",
    "`第一个字符必须是字符表中的字符或者下划线`"
   ]
  },
  {
   "cell_type": "markdown",
   "id": "90b82c9a",
   "metadata": {},
   "source": [
    "### 保留字（关键字）\n",
    "\n",
    "是Python语言官方确定的用作语法功能的专用标识符，不能把它们用作任何自定义标识符名称。\n",
    "\n",
    "关键字只包含小写字母。可以通过python提供的库输出这些关键字：\n",
    "\n"
   ]
  },
  {
   "cell_type": "code",
   "execution_count": 88,
   "id": "5bd66e68",
   "metadata": {},
   "outputs": [
    {
     "name": "stdout",
     "output_type": "stream",
     "text": [
      "=======================================================\n",
      "|   False|    None|    True|     and|      as|  assert|\n",
      "|   async|   await|   break|   class|continue|     def|\n",
      "|     del|    elif|    else|  except| finally|     for|\n",
      "|    from|  global|      if|  import|      in|      is|\n",
      "|  lambda|nonlocal|     not|      or|    pass|   raise|\n",
      "|  return|     try|   while|    with|   yield|\n",
      "=======================================================\n"
     ]
    }
   ],
   "source": [
    "import  keyword\n",
    "\n",
    "i = 0\n",
    "\n",
    "print(\"=======================================================\")\n",
    "for v in keyword.kwlist:\n",
    "    i = i + 1\n",
    "    k = i % 6\n",
    "    if k == 0:\n",
    "        print(\"%8s|\"%v)\n",
    "    elif k == 1:\n",
    "         print(\"|%8s|\"%v,end='')\n",
    "    else:\n",
    "        print(\"%8s|\"%v,end=\"\")\n",
    "print()        \n",
    "print(\"=======================================================\")        "
   ]
  },
  {
   "cell_type": "markdown",
   "id": "ccb4c464",
   "metadata": {},
   "source": [
    "### 注释\n",
    "\n",
    "注释有说明性质的、帮助性质的，它们在代码执行过程中相当于不存在，透明的。"
   ]
  },
  {
   "cell_type": "code",
   "execution_count": 36,
   "id": "fbc355c5",
   "metadata": {},
   "outputs": [
    {
     "name": "stdout",
     "output_type": "stream",
     "text": [
      "hello wolrd\n"
     ]
    }
   ],
   "source": [
    "# 下面注释可以在脚本文件开头，指定执行改脚本的python版本\n",
    "#！/usr/bin/python\n",
    "\n",
    "# 下面注释在指定python脚本下，指定脚本文件本身的编码格式，解决中文乱码问题\n",
    "# -*- coding:utf-8 -*-\n",
    "\n",
    "\n",
    "# 单行注释\n",
    "# 第二个注释\n",
    "\n",
    "\n",
    "'''\n",
    "多行注释\n",
    "第四注释\n",
    "'''\n",
    " \n",
    "\"\"\"\n",
    "多行注释\n",
    "第六注释\n",
    "\"\"\"\n",
    "\n",
    "# 执行该段脚本后，仅仅输出hello world，其它行是注释\n",
    "print(\"hello wolrd\")"
   ]
  },
  {
   "cell_type": "markdown",
   "id": "92d38c4f",
   "metadata": {},
   "source": [
    "### 语句和缩进\n",
    "\n",
    "语句：在代码中，能够完整表达某个意思、操作或者逻辑的最短代码，被称为语句。"
   ]
  },
  {
   "cell_type": "code",
   "execution_count": 37,
   "id": "ba723bd7",
   "metadata": {},
   "outputs": [
    {
     "name": "stdout",
     "output_type": "stream",
     "text": [
      "2 range(1, 4) range(3, 5)\n"
     ]
    }
   ],
   "source": [
    "# 下面每一个行都可以叫做一个语句\n",
    "a = 321\n",
    "b = 321\n",
    "c  = range(1,5)\n",
    "print(c[1],c[:3],c[2:])"
   ]
  },
  {
   "cell_type": "markdown",
   "id": "b774348e",
   "metadata": {},
   "source": [
    "### 代码块\n",
    "为完成某一特定功能而联系在一起的一组语句构成一个代码块。有判断、循环、函数、类等各种代码块。代码块的首行通常以关键字开始，以冒号( : )结束。\n",
    "\n",
    "在go、java中代码块总是用{}分割，在python用四个空格，也就是tab缩进。 观察下面代码在判断、循环、函数后都是进行了缩进。"
   ]
  },
  {
   "cell_type": "code",
   "execution_count": 31,
   "id": "15a5bf1d",
   "metadata": {},
   "outputs": [
    {
     "name": "stdout",
     "output_type": "stream",
     "text": [
      "This is True\n",
      "脚本输入参数D:\\tool\\anaconda\\Lib\\site-packages\\ipykernel_launcher.py\n",
      "脚本输入参数-f\n",
      "脚本输入参数C:\\Users\\Administrator\\AppData\\Roaming\\jupyter\\runtime\\kernel-d5e5a204-cbe8-45bb-91c9-17218bb25d4e.json\n",
      "sum函数结果63\n"
     ]
    }
   ],
   "source": [
    "# IF-ELSE 关键词开头，冒号结尾的代码块\n",
    "if True:\n",
    "    print(\"This is True\")\n",
    "else:\n",
    "    print(\"This is False\")\n",
    "    \n",
    "\n",
    "# 循环语句代码块\n",
    "import sys\n",
    "\n",
    "for arg in sys.argv:\n",
    "    print(\"脚本输入参数%s\"%arg)\n",
    "    \n",
    "# 函数代码块\n",
    "def sum(a, b):\n",
    "    return a + b\n",
    "\n",
    "print(\"sum函数结果%d:\"%sum(29,34))"
   ]
  },
  {
   "cell_type": "markdown",
   "id": "9f6f57b6",
   "metadata": {},
   "source": [
    "### 内置函数\n",
    "\n",
    "解释器自带的函数叫做“内置函数”，这些函数不需要import 导入就可以直接使用。"
   ]
  },
  {
   "cell_type": "code",
   "execution_count": 125,
   "id": "af7c4c13",
   "metadata": {},
   "outputs": [
    {
     "name": "stdout",
     "output_type": "stream",
     "text": [
      "==============================================================================================================================\n",
      "|               ArithmeticError|                AssertionError|                AttributeError|                 BaseException|\n",
      "|            BaseExceptionGroup|               BlockingIOError|               BrokenPipeError|                   BufferError|\n",
      "|                  BytesWarning|             ChildProcessError|        ConnectionAbortedError|               ConnectionError|\n",
      "|        ConnectionRefusedError|          ConnectionResetError|            DeprecationWarning|                      EOFError|\n",
      "|                      Ellipsis|               EncodingWarning|              EnvironmentError|                     Exception|\n",
      "|                ExceptionGroup|                         False|               FileExistsError|             FileNotFoundError|\n",
      "|            FloatingPointError|                 FutureWarning|                 GeneratorExit|                       IOError|\n",
      "|                   ImportError|                 ImportWarning|              IndentationError|                    IndexError|\n",
      "|              InterruptedError|             IsADirectoryError|                      KeyError|             KeyboardInterrupt|\n",
      "|                   LookupError|                   MemoryError|           ModuleNotFoundError|                     NameError|\n",
      "|                          None|            NotADirectoryError|                NotImplemented|           NotImplementedError|\n",
      "|                       OSError|                 OverflowError|     PendingDeprecationWarning|               PermissionError|\n",
      "|            ProcessLookupError|                RecursionError|                ReferenceError|               ResourceWarning|\n",
      "|                  RuntimeError|                RuntimeWarning|            StopAsyncIteration|                 StopIteration|\n",
      "|                   SyntaxError|                 SyntaxWarning|                   SystemError|                    SystemExit|\n",
      "|                      TabError|                  TimeoutError|                          True|                     TypeError|\n",
      "|             UnboundLocalError|            UnicodeDecodeError|            UnicodeEncodeError|                  UnicodeError|\n",
      "|         UnicodeTranslateError|                UnicodeWarning|                   UserWarning|                    ValueError|\n",
      "|                       Warning|                  WindowsError|             ZeroDivisionError|                   __IPYTHON__|\n",
      "|               __build_class__|                     __debug__|                       __doc__|                    __import__|\n",
      "|                    __loader__|                      __name__|                   __package__|                      __spec__|\n",
      "|                           abs|                         aiter|                           all|                         anext|\n",
      "|                           any|                         ascii|                           bin|                          bool|\n",
      "|                    breakpoint|                     bytearray|                         bytes|                      callable|\n",
      "|                           chr|                   classmethod|                       compile|                       complex|\n",
      "|                     copyright|                       credits|                       delattr|                          dict|\n",
      "|                           dir|                       display|                        divmod|                     enumerate|\n",
      "|                          eval|                          exec|                      execfile|                        filter|\n",
      "|                         float|                        format|                     frozenset|                   get_ipython|\n",
      "|                       getattr|                       globals|                       hasattr|                          hash|\n",
      "|                          help|                           hex|                            id|                         input|\n",
      "|                           int|                    isinstance|                    issubclass|                          iter|\n",
      "|                           len|                       license|                          list|                        locals|\n",
      "|                           map|                           max|                    memoryview|                           min|\n",
      "|                          next|                        object|                           oct|                          open|\n",
      "|                           ord|                           pow|                         print|                      property|\n",
      "|                         range|                          repr|                      reversed|                         round|\n",
      "|                       runfile|                           set|                       setattr|                         slice|\n",
      "|                        sorted|                  staticmethod|                           str|                           sum|\n",
      "|                         super|                         tuple|                          type|                          vars|\n",
      "|                           zip|\n",
      "=============================================================================================================================\n"
     ]
    }
   ],
   "source": [
    "print(\"==============================================================================================================================\")\n",
    "for v in dir(__builtin__):\n",
    "    i = i + 1\n",
    "    k = i % 4\n",
    "    if k == 0:\n",
    "        print(\"%30s|\"%v)\n",
    "    elif k == 1:\n",
    "         print(\"|%30s|\"%v,end=\"\")\n",
    "    else:\n",
    "        print(\"%30s|\"%v,end=\"\")\n",
    "print()        \n",
    "print(\"=============================================================================================================================\")        "
   ]
  },
  {
   "cell_type": "code",
   "execution_count": 123,
   "id": "c7d0221d",
   "metadata": {},
   "outputs": [
    {
     "name": "stdout",
     "output_type": "stream",
     "text": [
      "<class 'int'> 140726763885960 20\n",
      "50\n",
      "['bc', 'ac', 'dc', 'ca']\n"
     ]
    }
   ],
   "source": [
    "# 示例说明\n",
    "a = 20\n",
    "print(type(a),id(a),abs(a))\n",
    "b = 30\n",
    "print(sum(a,b))\n",
    "\n",
    "# 具体使用可以使用help函数\n",
    "# help(sorted)\n",
    "\n",
    "#  降序排列\n",
    "iter = [\"bc\",\"ac\",\"dc\",\"ca\"]\n",
    "print(sorted(iter, key=len, reverse=True))"
   ]
  },
  {
   "cell_type": "markdown",
   "id": "c982d1b0",
   "metadata": {},
   "source": [
    "### 运算符\n",
    "运算符是一些人为定义的特殊符号，比如我们生活当中最常见的+ 、-、×、÷，它们主要用于数学计算、比较大小和逻辑运算等等。\n",
    "\n",
    "\n",
    "各语言大同小异基本上将运算符划分为五种类型：\n",
    "1、算术运算符\n",
    "2、赋值运算符\n",
    "3、比较运算符\n",
    "4、逻辑运算符\n",
    "5、位运算符\n",
    "\n",
    "各运算符优先级和符号表示如下："
   ]
  },
  {
   "cell_type": "markdown",
   "id": "3a39dca3",
   "metadata": {},
   "source": [
    "#### 算术运算符\n",
    "\n",
    "算术运算符是处理四则运算（加减乘除）的符号，在日常数字的处理中应用最多。\n",
    "\n",
    "![suanshu.png](attachment:suanshu.png)"
   ]
  },
  {
   "cell_type": "code",
   "execution_count": null,
   "id": "65ec550d",
   "metadata": {},
   "outputs": [],
   "source": [
    "#  示例代码\n",
    "# 加法\n",
    "print(12 + 2)\n",
    "# 减法\n",
    "print(12 - 2)\n",
    "# 乘法\n",
    "print((12 + 2j) * (-1 + 3j))\n",
    "# 除法\n",
    "print(\"%5.2f\"%(10 / 3))\n",
    "# 整除\n",
    "print(23.3 // 11.3)\n",
    "# 取余\n",
    "print(\"%.2f\"%(12.3 % 10.2))\n",
    "# 乘方\n",
    "print(2 ** 3)"
   ]
  },
  {
   "cell_type": "markdown",
   "id": "072ae917",
   "metadata": {},
   "source": [
    "#### 赋值运算符\n",
    "赋值运算符主要用来为变量赋值。把右侧表达式进过处理后赋予给左侧变量的过程。\n",
    "\n",
    "![fuzhi.png](attachment:fuzhi.png)"
   ]
  },
  {
   "cell_type": "code",
   "execution_count": 1,
   "id": "7b92fa65",
   "metadata": {},
   "outputs": [
    {
     "name": "stdout",
     "output_type": "stream",
     "text": [
      "1 1 1\n",
      "6\n",
      "5\n",
      "25\n",
      "8.333333333333334\n",
      "4.0\n",
      "4.0\n",
      "1024.0\n"
     ]
    }
   ],
   "source": [
    "# 示例代码如下\n",
    "\n",
    "#  基本赋值运算符,除基本赋值符外其他赋值运算符都是针对数字型数据操作的\n",
    "a = b = c = 1\n",
    "print(a,b,c)\n",
    "\n",
    "# 加法运算后赋值\n",
    "a += 5\n",
    "print(a)\n",
    "\n",
    "# 减法运算后赋值\n",
    "a -= b\n",
    "print(a)\n",
    "\n",
    "# 乘法运算后赋值\n",
    "a *= 5\n",
    "print(a)\n",
    "\n",
    "# 除法运算后赋值\n",
    "a /= 3\n",
    "print(a)\n",
    "\n",
    "# 整除运算后赋值\n",
    "a //= 2\n",
    "print(a)\n",
    "\n",
    "# 取余运算后赋值\n",
    "a %= 5\n",
    "print(a)\n",
    "\n",
    "# 乘方运算后赋值\n",
    "a **= 5\n",
    "print(a)"
   ]
  },
  {
   "cell_type": "markdown",
   "id": "9a0924a5",
   "metadata": {},
   "source": [
    "#### 比较运算符（关系运算符）\n",
    "\n",
    "主要用于对变量或表达式的结果进行大小、真假等的比较。如果比较的结果为真，就返回True，如果为假，就返回False。\n",
    "\n",
    "![bijiaoguanxi.png](attachment:bijiaoguanxi.png)"
   ]
  },
  {
   "cell_type": "code",
   "execution_count": 2,
   "id": "c93bf8c7",
   "metadata": {},
   "outputs": [
    {
     "name": "stdout",
     "output_type": "stream",
     "text": [
      "True 2\n",
      "True,140726725678216 is 140726725678216\n",
      "2\n"
     ]
    }
   ],
   "source": [
    "# 示例如下：\n",
    "\n",
    "idStr = \"\"\n",
    "\n",
    "# 不等于比较\n",
    "if idStr :\n",
    "    print(idStr)\n",
    "\n",
    "    \n",
    "isDrink = True\n",
    "isInt = 2\n",
    "\n",
    "# 大于比较\n",
    "if  isDrink and isInt > 1:\n",
    "    print(isDrink,isInt)\n",
    "\n",
    "a = b = c = 12\n",
    "\n",
    "# 特殊比较符is，表示2个变量内存地址是否相同\n",
    "print(\"{0},{1} is {2}\".format((a is b),id(a),id(b)))\n",
    "\n",
    "# 小于比较\n",
    "if isInt < a :\n",
    "    print(isInt)\n"
   ]
  },
  {
   "cell_type": "markdown",
   "id": "9309493c",
   "metadata": {},
   "source": [
    "### 1.4 逻辑运算符\n",
    "\n",
    "逻辑运算符是对真和假两种布尔值进行运算，运算后的结果仍是一个布尔值。\n",
    "\n",
    "![luojiyuansuanfu.png](attachment:luojiyuansuanfu.png)"
   ]
  },
  {
   "cell_type": "code",
   "execution_count": 3,
   "id": "7424fd1c",
   "metadata": {},
   "outputs": [
    {
     "name": "stdout",
     "output_type": "stream",
     "text": [
      "20 is ord\n",
      "32\n",
      "20\n"
     ]
    }
   ],
   "source": [
    "# 示例代码\n",
    "\n",
    "# 逻辑与\n",
    "\n",
    "a = 20\n",
    "if a > 0 and a % 2 == 0:\n",
    "    print(\"%d is ord\"%a)\n",
    "\n",
    "# 逻辑或    \n",
    "if a + 12 > 50 or  a > 10 :\n",
    "    print(a + 12)\n",
    "\n",
    "# 逻辑非 单目，从右往左\n",
    "if not a < 20 and a > 1:\n",
    "    print(a)"
   ]
  },
  {
   "cell_type": "markdown",
   "id": "973a947c",
   "metadata": {},
   "source": [
    "优先级高的运算符先执行，优先级低的运算符后执行，同一优先级的操作按照从左到右的顺序进行。\n",
    "\n",
    "也可以像数学四则运算那样使用小括号，括号内的运算最先执行。\n",
    "\n",
    "如下表所示按从高到低的顺序列出了运算符的优先级。\n",
    "\n",
    "![youxianji.png](attachment:youxianji.png)"
   ]
  },
  {
   "cell_type": "code",
   "execution_count": null,
   "id": "e4dcb003",
   "metadata": {},
   "outputs": [],
   "source": []
  }
 ],
 "metadata": {
  "kernelspec": {
   "display_name": "Python 3 (ipykernel)",
   "language": "python",
   "name": "python3"
  },
  "language_info": {
   "codemirror_mode": {
    "name": "ipython",
    "version": 3
   },
   "file_extension": ".py",
   "mimetype": "text/x-python",
   "name": "python",
   "nbconvert_exporter": "python",
   "pygments_lexer": "ipython3",
   "version": "3.11.5"
  }
 },
 "nbformat": 4,
 "nbformat_minor": 5
}
