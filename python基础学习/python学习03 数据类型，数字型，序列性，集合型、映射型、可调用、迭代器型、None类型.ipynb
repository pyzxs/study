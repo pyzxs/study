{
 "cells": [
  {
   "cell_type": "markdown",
   "metadata": {},
   "source": [
    "## 数据类型\n",
    "在 Python 中，数据类型是区分数据的种类和存储方式的标识符。它定义了数据的取值范围、占用空间大小、可操作特性等。\n",
    "\n",
    "* 内存空间的管理\n",
    "\n",
    "不同的数据类型需要占用不同的内存空间，因此在内存空间的管理上，数据类型具有重要的作用。\n",
    "\n",
    "例如，在处理大量数据时，选择合适的数据类型可以有效地减少内存占用，提高程序的执行效率。\n",
    "\n",
    "* 数据的表达和处理\n",
    "\n",
    "数据类型定义了数据的表达方式和可操作性，使得程序能够对不同类型的数据进行有效的处理。\n",
    "\n",
    "例如，在处理数值型数据时，使用基本数据类型如 int 和 float 可以进行各种算术运算，而在处理字符串时，使用字符串类型 str 可以对字符串进行切片、连接、替换等操作。\n",
    "\n",
    "* 代码的可读性和维护性\n",
    "\n",
    "采用合适的数据类型可以使代码更加清晰、直观，并且易于维护和修改。\n",
    "\n",
    "例如，使用列表类型 list 来表示一组有序数据或使用字典类型 dict 来表示一组键值对数据，在代码中的语义更加明确和易于理解。\n",
    "\n",
    "* 类型转换和数据校验\n",
    "\n",
    "\n",
    "不同的数据类型可以通过相应的内置方法或函数进行类型转换。\n",
    "\n",
    "例如，使用 int() 函数可以将一个字符串转换为整数类型，使用 str() 函数可以将一个数字或其他类型的数据转换为字符串类型。\n",
    "\n",
    "此外，数据类型还可以用于对输入或输出的数据进行校验和验证，以确保数据的正确性和有效性。"
   ]
  },
  {
   "cell_type": "markdown",
   "metadata": {},
   "source": [
    "## 常见数据类型\n",
    "\n",
    "下面是python常用的数据类型："
   ]
  },
  {
   "cell_type": "markdown",
   "metadata": {},
   "source": [
    "### 数字型（Number）\n",
    "\n",
    "数字型数据类型包括整型（int）、浮点型（float）、布尔型（bool）和复数型（complex）及长整型（long）等。\n",
    "\n",
    "其中，整型用于表示整数，浮点型用于表示浮点数或科学计算中的实数。\n",
    "\n",
    "布尔型用于表示 True 和 False 两个值，复数型用于表示实部和虚部都为浮点数的复数。"
   ]
  },
  {
   "cell_type": "code",
   "execution_count": 124,
   "metadata": {},
   "outputs": [
    {
     "name": "stdout",
     "output_type": "stream",
     "text": [
      "(200+100j) 900.0 1100.0 (0.02+0.01j) 10.0 0.0 10000\n",
      "<class 'int'> <class 'float'> <class 'complex'> <class 'bool'>\n",
      "100\n"
     ]
    }
   ],
   "source": [
    "counter = 100          # 整型变量\n",
    "miles   = 1000.0       # 浮点型变量\n",
    "cpx1 = 2 + 1j          # 复数类型\n",
    "isPrint = True        # 布尔类型\n",
    "\n",
    "if isPrint:\n",
    "    print(counter * cpx1, miles - counter, miles + counter, cpx1 / counter, miles // counter,miles % counter, counter ** 2)\n",
    "    \n",
    "print(type(counter),type(miles),type(cpx1),type(isPrint))  \n",
    "\n",
    "# 判断变量类型\n",
    "if(isinstance(counter,int)):\n",
    "    print(counter)"
   ]
  },
  {
   "cell_type": "markdown",
   "metadata": {},
   "source": [
    "### 序列型（Sequence）\n",
    "\n",
    "序列型数据类型包括字符串型（str）、列表型（list）、元组型（tuple）等。\n",
    "\n",
    "其中，字符串型用于表示文本数据，列表型用于表示一组有序的数据，元组型也用于表示一组有序的数据，但是元组是不可变的。\n",
    "\n",
    "此外，还有字节数组（bytearray）和字节串（bytes）两种序列类型，这些序列类型在表示方式和操作方式上有所不同。\n"
   ]
  },
  {
   "cell_type": "code",
   "execution_count": 125,
   "metadata": {},
   "outputs": [
    {
     "name": "stdout",
     "output_type": "stream",
     "text": [
      "world,hello\n",
      "h e l l o , w o r l d \n",
      "o hel lo,world\n",
      "helloworld\n",
      "['abcd', 786, 2.23, 'Google', 70.2]\n",
      "abcd\n",
      "[786, 2.23]\n",
      "[2.23, 'Google', 70.2]\n",
      "[123, 'Google', 123, 'Google']\n",
      "['abcd', 786, 2.23, 'Google', 70.2, 123, 'Google']\n",
      "[786, 2.23, 'Google', 70.2]\n",
      "[786, 2.23, 70.2]\n",
      "[786, 70.2]\n",
      "('abcd',)\n",
      "True True\n",
      "b'hello,world'\n",
      "b'\\x00\\x00\\x00\\x00\\x00\\x00\\x00\\x00\\x00\\x00'\n",
      "b'\\x00\\x01\\x02\\x03\\x04'\n",
      "0x700x62\n",
      "b'hello,world'\n",
      "b'\\xe4\\xbd\\xa0\\xe5\\xa5\\xbd\\xef\\xbc\\x8c\\xe4\\xb8\\x96\\xe7\\x95\\x8c' 你好，世界\n",
      "bytearray(b'Hello,World') bytearray(b'\\x17\\x18\\x19\\x1a\\x1b\\x1c\\x1d\\x1e\\x1f !\"#$%&\\'()*+,-./01234567') bytearray(b'\\xe4\\xb8\\xad\\xe5\\x9b\\xbd')\n",
      "{1, 4, 9}\n"
     ]
    }
   ],
   "source": [
    "# 示例代码如下：\n",
    "# ===========字符串型=================\n",
    "prose = \"hello,world\"\n",
    "words = prose.split(\",\")\n",
    "print(','.join(words[-1::-1]))\n",
    "\n",
    "# 循环输出\n",
    "for i in prose:\n",
    "    print(i,end=\" \")\n",
    "print() \n",
    "\n",
    "# 取出部分\n",
    "print(prose[4],prose[:3],prose[3:])\n",
    "# 如果删除，可以通过取出2个切片\n",
    "print(prose[0:5] + prose[6:])\n",
    "\n",
    "# ============= 列表型===================\n",
    "list1 = [ 'abcd', 786 , 2.23, 'Google', 70.2 ]\n",
    "tinylist = [123, 'Google']\n",
    "\n",
    "print (list1)                   # 输出完整列表\n",
    "print (list1[0])                # 输出列表第一个元素\n",
    "print (list1[1:3])              # 从第二个开始输出到第三个元素\n",
    "print (list1[2:])               # 输出从第三个元素开始的所有元素\n",
    "print (tinylist * 2)           # 输出两次列表\n",
    "print (list1 + tinylist)        # 连接列表\n",
    "list1.remove('abcd')            # 删除值为abcd\n",
    "print(list1)\n",
    "list1.pop(2)                    # 删除索引是2\n",
    "print(list1)\n",
    "del(list1[1:2])                 # del删除切片\n",
    "print(list1)\n",
    "# ============= 元组 ====================\n",
    "# 元组是特殊列表，具有不可变性、安全性、高效性\n",
    "\n",
    "\n",
    "tup1 = ()    # 空元组\n",
    "tup2 = (20,) # 一个元素，需要在元素后添加逗号\n",
    "tupl1 = (12,\"abcd\",12.22)\n",
    "print(tupl1[1:2])              # 取出元组元素\n",
    "list2 = list(tupl1)            # 转化为列表\n",
    "tupl2 = tuple(list2)           # 转换为元组\n",
    "print(isinstance(list2,list), isinstance(tupl2,tuple)) # 判断是否为相应对象类型\n",
    "\n",
    "# ===========bytes字节串================\n",
    "print(bytes(b'hello,world'))  # 字节串创建实例\n",
    "print(bytes(10))              # 10个全0的字节串\n",
    "print(bytes(range(5)))        # 生成序列字节串\n",
    "str = \"hello,world\"\n",
    "print(hex(ord('p')) + hex(ord('b'))) # 可以用内置函数\n",
    "\n",
    "# 字节串和字符串转换\n",
    "print(bytes(str.encode('utf-8')))  \n",
    "str = \"你好，世界\"\n",
    "s = str.encode(encoding='utf-8')\n",
    "\n",
    "byte1 = s.decode('utf-8')\n",
    "print(s,byte1)  \n",
    "\n",
    "# ===========byteArray字节数组========\n",
    "ba1 = bytearray(b'Hello,World')\n",
    "ba2 = bytearray(range(23,56))\n",
    "ba3 = bytearray('中国', encoding='utf-8')\n",
    "print(ba1,ba2,ba3)\n",
    "\n",
    "# 推导式\n",
    "l1 = [1,2,3]\n",
    "print({i ** 2 for i in l1})"
   ]
  },
  {
   "cell_type": "markdown",
   "metadata": {},
   "source": [
    "### 集合型（Set）\n",
    "\n",
    "集合型数据类型用于表示一组无序的、独特的元素，常用的有集合（set）和不可变集合（frozenset）两种数据类型。\n"
   ]
  },
  {
   "cell_type": "code",
   "execution_count": 126,
   "metadata": {},
   "outputs": [
    {
     "name": "stdout",
     "output_type": "stream",
     "text": [
      "{0, 1, 2, 3, 4, 5, 6, 7, 8, 9}\n",
      "{'test', 1, 2, 3, 5, 'zxs', 'laozhu'}\n",
      "{1, 2, 3, 5, 'laozhu'}\n",
      "Google 在集合中\n",
      "{1, 2, 3, 4, 5, 6, 7}\n",
      "{2, 3, 4}\n",
      "{1, 5, 6, 7}\n",
      "frozenset({0, 1, 2, 3, 4})\n",
      "{16, 1, 4, 9}\n"
     ]
    }
   ],
   "source": [
    "# 示例代码\n",
    "# set函数，字符串、列表、元组转化为集合\n",
    "print(set(range(10)))\n",
    "\n",
    "set1 = set() # 空集合\n",
    "set1 = {1,2,3,\"test\"}\n",
    "set1.add(5)   # 插入1个元素\n",
    "set1.update(['zxs','laozhu']) # 插入多条\n",
    "print(set1)\n",
    "set1.remove('zxs')\n",
    "set1.pop()  # 随机弹出一个元素\n",
    "print(set1)\n",
    "set1.clear()    # 清除所有\n",
    "\n",
    "\n",
    " # 输出集合，重复的元素被自动去掉\n",
    "sites = {'Google', 'Taobao', 'Facebook', 'Zhihu', 'Baidu'}\n",
    "if 'Google' in sites :\n",
    "    print('Google 在集合中')\n",
    "else :\n",
    "    print('Google 不在集合中')\n",
    "\n",
    "\n",
    "\n",
    "# 合集\n",
    "set2 = {1,2,3}.union({2,4,5}) | {5,6,7}\n",
    "print(set2)\n",
    "# 交集\n",
    "print(set2.intersection({2,3,4}))\n",
    "# 差集\n",
    "print(set2.difference({2,3,4}))\n",
    "\n",
    "# forzeset 冻结的结合、不能插入和删除元素，其它和set相同\n",
    "print(frozenset(range(5)))\n",
    "set3 = {1,2,3,4}\n",
    "\n",
    "# 推导式\n",
    "print({i ** 2 for i in set3})"
   ]
  },
  {
   "cell_type": "markdown",
   "metadata": {},
   "source": [
    "### 映射型 也叫字典类型（Mapping）\n",
    "\n",
    "映射型数据类型用于表示一种键值对应关系的数据结构，它由键（key）和值（value）组成，常用的是字典（dict）数据类型。\n",
    "\n",
    "就是我们在其它语言里说的关系数组"
   ]
  },
  {
   "cell_type": "code",
   "execution_count": 127,
   "metadata": {},
   "outputs": [
    {
     "name": "stdout",
     "output_type": "stream",
     "text": [
      "idnameage1zxs50id 1\n",
      "name zxs\n",
      "age 50\n",
      "[1, 4, 9]\n"
     ]
    }
   ],
   "source": [
    "# 空字典\n",
    "dict1 = {}\n",
    "dict1 = {\"id\":1,\"name\":\"laozhu\",\"gender\":1}\n",
    "dict1['age'] = 50     #  添加一个键值对\n",
    "dict1['name'] = 'zxs' # 修改某个键值对\n",
    "del(dict1['gender'])  # 删除某个键值对\n",
    "\n",
    "# 遍历key    \n",
    "for i in dict1.keys():\n",
    "        print(i,end=\"\")\n",
    "# 遍历value        \n",
    "for v in dict1.values():\n",
    "        print(v,end=\"\")\n",
    "# 遍历元素        \n",
    "for i,v in dict1.items():\n",
    "    print(i,v)\n",
    "\n",
    "# 推导式\n",
    "dict2 = {1:23,2:\"aaa\",3:\"zzz\"}\n",
    "print([v ** 2 for v in dict2.keys()])"
   ]
  },
  {
   "cell_type": "markdown",
   "metadata": {},
   "source": [
    "### 可调用型（Callable）\n",
    "\n",
    "可调用类型（Callable）是 Python 中的一个抽象概念，表示可调用的对象，即可以像函数一样调用的对象，判断一个对象是否是可调用类型，\n",
    "\n",
    "可以使用内置函数 callable()。\n",
    "\n",
    "包括函数（function）、方法（method）和类（class），它们可以被调用执行，并且可能会返回结果。\n",
    "\n"
   ]
  },
  {
   "cell_type": "code",
   "execution_count": 128,
   "metadata": {},
   "outputs": [
    {
     "name": "stdout",
     "output_type": "stream",
     "text": [
      "True\n",
      "0\n",
      "学生类介绍\n",
      "None\n",
      "0\n",
      "<__main__.Student object at 0x00000280BE22D310> True <class '__main__.Student'>\n"
     ]
    }
   ],
   "source": [
    "# 代码示例\n",
    "\n",
    "# 定义一个函数\n",
    "def sum(x,y):\n",
    "    return x + y\n",
    "\n",
    "print(callable(sum)) # 验证函数是否为可调用类型\n",
    "\n",
    "# 定义一个类\n",
    "class Student:\n",
    "    Total = 0\n",
    "    \n",
    "    def __init__(self,name,age):\n",
    "        self.Name = name\n",
    "        self.age = age\n",
    "        \n",
    "    def getTotal(self):\n",
    "        return self.Total\n",
    "        \n",
    "  \n",
    "    # 类方法，可以通过类直接调用Student.total()\n",
    "    @classmethod\n",
    "    def total(cls):\n",
    "        return cls.Total\n",
    "    \n",
    "    # 静态方法，没设计对象本身\n",
    "    @staticmethod\n",
    "    def info():\n",
    "        print(\"学生类介绍\")\n",
    "        \n",
    "    # call方法\n",
    "    def __call__(self,x):\n",
    "        return self.Total + x\n",
    "    \n",
    "\n",
    "# 声明一个Student类的对象\n",
    "\n",
    "print(Student.total())\n",
    "print(Student.info())\n",
    "std = Student(\"laozhu\",20)\n",
    "\n",
    "# 使用call，对象本身是一个函数\n",
    "std1 = std(20)\n",
    "print(std.getTotal())\n",
    "\n",
    "print(std,callable(std),Student)"
   ]
  },
  {
   "cell_type": "markdown",
   "metadata": {},
   "source": [
    "### 迭代器型（Iterator）\n",
    "\n",
    "迭代器型数据类型是一种可迭代对象，并且可以通过 next() 方法遍历元素。\n",
    "\n",
    "常见生成器（generator）和生成器函数（generator function）及内置迭代器"
   ]
  },
  {
   "cell_type": "code",
   "execution_count": 105,
   "metadata": {},
   "outputs": [
    {
     "name": "stdout",
     "output_type": "stream",
     "text": [
      "<generator object generate_simple at 0x00000280BD01DA80>\n",
      "<generator object generate_simple at 0x00000280BD01DA80>\n",
      "<generator object generate_simple at 0x00000280BD01DA80>\n",
      "5\n",
      "6\n",
      "7\n",
      "2\n",
      "3\n",
      "4\n"
     ]
    }
   ],
   "source": [
    "# 生成器\n",
    "def generate_simple(x):\n",
    "    yield 1 + x\n",
    "    yield 2 + x\n",
    "    yield 3 + x\n",
    "    \n",
    "print(generate_simple(3))\n",
    "print(generate_simple(2))\n",
    "print(generate_simple(5))\n",
    "for i in generate_simple(4):\n",
    "    print(i)\n",
    "\n",
    "# 迭代器简单使用，可以通过__iter__和__next__写迭代器类\n",
    "it = iter([1,2,3,4])\n",
    "next(it)\n",
    "\n",
    "for i in it:\n",
    "    print(i)"
   ]
  },
  {
   "cell_type": "markdown",
   "metadata": {},
   "source": [
    "### 上下文管理器类型（Context Manager）\n",
    "\n",
    "实现了 enter() 和 exit() 方法的对象,用with...as..关键字调用"
   ]
  },
  {
   "cell_type": "code",
   "execution_count": 111,
   "metadata": {},
   "outputs": [
    {
     "name": "stdout",
     "output_type": "stream",
     "text": [
      "上下文管理类型测试内容\n",
      "start execute MyFileOpen enter\n",
      "上下文管理类型测试内容\n",
      "start execute MyFileOpen exit  None None None\n"
     ]
    }
   ],
   "source": [
    "# 打开一个文件操作\n",
    "\n",
    "with open(r\"E:\\2.txt\",'r') as f:\n",
    "    print(f.read())\n",
    "    \n",
    "# 自定义实现 __enter__和__exit__方法\n",
    "class MyFileOpen:\n",
    "    def __init__(self,filename,mode):\n",
    "        self.filename = filename\n",
    "        self.mode = mode\n",
    "    def __enter__(self):\n",
    "        print(\"start execute MyFileOpen enter\")\n",
    "        self.fp = open(self.filename,self.mode)\n",
    "        return self.fp\n",
    "    def __exit__(self,exc_type, exc_val, exc_tb):\n",
    "        print(\"start execute MyFileOpen exit \",exc_type,exc_val,exc_tb)\n",
    "        self.fp.close()\n",
    "\n",
    "with MyFileOpen(r\"E:\\2.txt\",'r') as fp:\n",
    "    print(fp.read())"
   ]
  },
  {
   "cell_type": "markdown",
   "metadata": {},
   "source": [
    "### 模块类型（Module）\n",
    "\n",
    "模块（module）和包（package）模块就是一个Python文件，里面有类、函数、变量等，我们可以拿过来用(导入模块去使用)\n",
    "\n",
    "引入方式如下：\n",
    "`import 模块名 `\n",
    "`from  模块名 import 功能名`\n",
    "\n",
    "`import 模块名 as 别名`"
   ]
  },
  {
   "cell_type": "code",
   "execution_count": 114,
   "metadata": {},
   "outputs": [
    {
     "name": "stdout",
     "output_type": "stream",
     "text": [
      "开始执行....\n",
      "执行结束.....\n",
      "开始执行....\n",
      "执行结束....\n",
      "开始执行....\n",
      "执行结束....\n"
     ]
    }
   ],
   "source": [
    "import time\n",
    "\n",
    "print(\"开始执行....\")\n",
    "time.sleep(3)\n",
    "print(\"执行结束.....\")\n",
    "\n",
    "from time import *\n",
    "print(\"开始执行....\")\n",
    "sleep(3)\n",
    "print(\"执行结束....\")\n",
    "\n",
    "import time as time1\n",
    "print(\"开始执行....\")\n",
    "time1.sleep(3)\n",
    "print(\"执行结束....\")\n"
   ]
  },
  {
   "cell_type": "markdown",
   "metadata": {},
   "source": [
    "### Null 对象类型（NoneType）\n",
    "\n",
    "None在python中是一个特殊的对象，它表示空值，其类型为NoneType"
   ]
  },
  {
   "cell_type": "code",
   "execution_count": 123,
   "metadata": {},
   "outputs": [
    {
     "name": "stdout",
     "output_type": "stream",
     "text": [
      "<class 'NoneType'>\n",
      "False\n",
      "False\n",
      "False\n",
      "True\n",
      "True\n"
     ]
    }
   ],
   "source": [
    "print(type(None))\n",
    "a = 0\n",
    "b = False\n",
    "str = \"\"\n",
    "\n",
    "def test():\n",
    "    pass\n",
    "\n",
    "print(a == None)\n",
    "print(b == None)\n",
    "print(str == None)\n",
    "\n",
    "d = a\n",
    "print(a is d)\n",
    "\n",
    "# 函数无返回值是返回None\n",
    "print(test() == None)"
   ]
  },
  {
   "cell_type": "markdown",
   "metadata": {},
   "source": [
    "\n",
    "根据 Python 的定义，每个变量都有其自身的类型，而数据类型的区分则取决于其值和表现方式。\n",
    "\n",
    "在 Python 编程中，判断一个变量的数据类型可以使用type()函数来实现。"
   ]
  },
  {
   "cell_type": "code",
   "execution_count": null,
   "metadata": {},
   "outputs": [],
   "source": []
  }
 ],
 "metadata": {
  "kernelspec": {
   "display_name": "Python 3 (ipykernel)",
   "language": "python",
   "name": "python3"
  },
  "language_info": {
   "codemirror_mode": {
    "name": "ipython",
    "version": 3
   },
   "file_extension": ".py",
   "mimetype": "text/x-python",
   "name": "python",
   "nbconvert_exporter": "python",
   "pygments_lexer": "ipython3",
   "version": "3.11.5"
  }
 },
 "nbformat": 4,
 "nbformat_minor": 4
}
